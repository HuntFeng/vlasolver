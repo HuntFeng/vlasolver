{
 "cells": [
  {
   "cell_type": "code",
   "execution_count": 1,
   "id": "963554ff",
   "metadata": {
    "collapsed": false,
    "jupyter": {
     "outputs_hidden": false,
     "source_hidden": false
    }
   },
   "outputs": [],
   "source": [
    "import numpy as np\n",
    "import matplotlib.pyplot as plt\n",
    "import h5py"
   ]
  },
  {
   "cell_type": "code",
   "execution_count": 2,
   "id": "fb2b93d3",
   "metadata": {
    "collapsed": false,
    "jupyter": {
     "outputs_hidden": false,
     "source_hidden": false
    }
   },
   "outputs": [
    {
     "name": "stdout",
     "output_type": "stream",
     "text": [
      "ERROR! Session/line number was not unique in database. History logging moved to new session 101\n"
     ]
    },
    {
     "ename": "IndexError",
     "evalue": "too many indices for array: array is 2-dimensional, but 3 were indexed",
     "output_type": "error",
     "traceback": [
      "\u001b[0;31m---------------------------------------------------------------------------\u001b[0m",
      "\u001b[0;31mIndexError\u001b[0m                                Traceback (most recent call last)",
      "Cell \u001b[0;32mIn[2], line 15\u001b[0m\n\u001b[1;32m      9\u001b[0m     Y \u001b[38;5;241m=\u001b[39m f[\u001b[38;5;124m\"\u001b[39m\u001b[38;5;124mVTKHDF/FieldData/Y\u001b[39m\u001b[38;5;124m\"\u001b[39m][:]\u001b[38;5;241m.\u001b[39mreshape(phi\u001b[38;5;241m.\u001b[39mshape)\n\u001b[1;32m     10\u001b[0m     \u001b[38;5;66;03m# f.visititems(\u001b[39;00m\n\u001b[1;32m     11\u001b[0m     \u001b[38;5;66;03m#     lambda name, obj: (\u001b[39;00m\n\u001b[1;32m     12\u001b[0m     \u001b[38;5;66;03m#         print(name, obj.shape) if isinstance(obj, h5py.Dataset) else None\u001b[39;00m\n\u001b[1;32m     13\u001b[0m     \u001b[38;5;66;03m#     )\u001b[39;00m\n\u001b[1;32m     14\u001b[0m     \u001b[38;5;66;03m# )\u001b[39;00m\n\u001b[0;32m---> 15\u001b[0m X \u001b[38;5;241m=\u001b[39m \u001b[43mX\u001b[49m\u001b[43m[\u001b[49m\u001b[38;5;241;43m-\u001b[39;49m\u001b[38;5;241;43m1\u001b[39;49m\u001b[43m,\u001b[49m\u001b[43m \u001b[49m\u001b[43m:\u001b[49m\u001b[43m,\u001b[49m\u001b[43m \u001b[49m\u001b[43m:\u001b[49m\u001b[43m]\u001b[49m\n\u001b[1;32m     16\u001b[0m Y \u001b[38;5;241m=\u001b[39m Y[\u001b[38;5;241m-\u001b[39m\u001b[38;5;241m1\u001b[39m, :, :]\n\u001b[1;32m     17\u001b[0m Z \u001b[38;5;241m=\u001b[39m phi[\u001b[38;5;241m-\u001b[39m\u001b[38;5;241m1\u001b[39m, :, :]\n",
      "\u001b[0;31mIndexError\u001b[0m: too many indices for array: array is 2-dimensional, but 3 were indexed"
     ]
    }
   ],
   "source": [
    "# file = \"data_example2.hdf\"\n",
    "# file = \"data_example5.hdf\"\n",
    "# file = \"data_example7.hdf\"\n",
    "\n",
    "with h5py.File(file, \"r\") as f:\n",
    "    phi = f[\"VTKHDF/CellData/phi\"][:]\n",
    "    X = f[\"VTKHDF/FieldData/X\"][:].reshape(phi.shape)\n",
    "    Y = f[\"VTKHDF/FieldData/Y\"][:].reshape(phi.shape)\n",
    "    # f.visititems(\n",
    "    #     lambda name, obj: (\n",
    "    #         print(name, obj.shape) if isinstance(obj, h5py.Dataset) else None\n",
    "    #     )\n",
    "    # )\n",
    "X = X[-1, :, :]\n",
    "Y = Y[-1, :, :]\n",
    "Z = phi[-1, :, :]\n",
    "fig, ax = plt.subplots(subplot_kw={\"projection\": \"3d\"})\n",
    "scatter = ax.scatter(X, Y, Z, c=Z, cmap=\"coolwarm\", s=10)\n",
    "ax.set_xlabel(\"X\")\n",
    "ax.set_ylabel(\"Y\")\n",
    "ax.set_zlabel(\"Z\")\n",
    "plt.colorbar(scatter, ax=ax, label=\"$\\\\phi$\")\n",
    "plt.tight_layout()"
   ]
  },
  {
   "cell_type": "code",
   "execution_count": 3,
   "id": "027f62fe",
   "metadata": {
    "collapsed": false,
    "jupyter": {
     "outputs_hidden": false,
     "source_hidden": false
    }
   },
   "outputs": [
    {
     "ename": "NameError",
     "evalue": "name 'u' is not defined",
     "output_type": "error",
     "traceback": [
      "\u001b[0;31m---------------------------------------------------------------------------\u001b[0m",
      "\u001b[0;31mNameError\u001b[0m                                 Traceback (most recent call last)",
      "Cell \u001b[0;32mIn[3], line 12\u001b[0m\n\u001b[1;32m      8\u001b[0m     u \u001b[38;5;241m=\u001b[39m X\u001b[38;5;241m*\u001b[39m\u001b[38;5;241m*\u001b[39m\u001b[38;5;241m2\u001b[39m \u001b[38;5;241m-\u001b[39m Y\u001b[38;5;241m*\u001b[39m\u001b[38;5;241m*\u001b[39m\u001b[38;5;241m2\u001b[39m\n\u001b[1;32m      9\u001b[0m     u[(X \u001b[38;5;241m-\u001b[39m \u001b[38;5;241m0.5\u001b[39m) \u001b[38;5;241m*\u001b[39m\u001b[38;5;241m*\u001b[39m \u001b[38;5;241m2\u001b[39m \u001b[38;5;241m+\u001b[39m (Y \u001b[38;5;241m-\u001b[39m \u001b[38;5;241m0.5\u001b[39m) \u001b[38;5;241m*\u001b[39m\u001b[38;5;241m*\u001b[39m \u001b[38;5;241m2\u001b[39m \u001b[38;5;241m>\u001b[39m \u001b[38;5;241m0.5\u001b[39m\u001b[38;5;241m*\u001b[39m\u001b[38;5;241m*\u001b[39m\u001b[38;5;241m2\u001b[39m] \u001b[38;5;241m=\u001b[39m \u001b[38;5;241m0\u001b[39m\n\u001b[1;32m     11\u001b[0m plt\u001b[38;5;241m.\u001b[39mpcolormesh(\n\u001b[0;32m---> 12\u001b[0m     X, Y, np\u001b[38;5;241m.\u001b[39mabs(\u001b[43mu\u001b[49m \u001b[38;5;241m-\u001b[39m phi[\u001b[38;5;241m-\u001b[39m\u001b[38;5;241m1\u001b[39m]), cmap\u001b[38;5;241m=\u001b[39m\u001b[38;5;124m\"\u001b[39m\u001b[38;5;124mcoolwarm\u001b[39m\u001b[38;5;124m\"\u001b[39m, norm\u001b[38;5;241m=\u001b[39mplt\u001b[38;5;241m.\u001b[39mmatplotlib\u001b[38;5;241m.\u001b[39mcolors\u001b[38;5;241m.\u001b[39mLogNorm()\n\u001b[1;32m     13\u001b[0m )\n\u001b[1;32m     14\u001b[0m plt\u001b[38;5;241m.\u001b[39mcolorbar(label\u001b[38;5;241m=\u001b[39m\u001b[38;5;124m\"\u001b[39m\u001b[38;5;124mLog $L_\u001b[39m\u001b[38;5;130;01m\\\\\u001b[39;00m\u001b[38;5;124minfty$\u001b[39m\u001b[38;5;124m\"\u001b[39m)\n\u001b[1;32m     15\u001b[0m plt\u001b[38;5;241m.\u001b[39mtitle(file)\n",
      "\u001b[0;31mNameError\u001b[0m: name 'u' is not defined"
     ]
    }
   ],
   "source": [
    "if file == \"data_example2.hdf\":\n",
    "    u = np.exp(-(X**2) - Y**2)\n",
    "    u[(X - 0.5) ** 2 + (Y - 0.5) ** 2 > 0.25**2] = 0\n",
    "if file == \"data_example5.hdf\":\n",
    "    u = 1 + np.log(2 * np.sqrt(X**2 + Y**2))\n",
    "    u[X**2 + Y**2 < 0.5**2] = 1\n",
    "if file == \"data_example7.hdf\":\n",
    "    u = X**2 - Y**2\n",
    "    u[(X - 0.5) ** 2 + (Y - 0.5) ** 2 > 0.5**2] = 0\n",
    "\n",
    "plt.pcolormesh(\n",
    "    X, Y, np.abs(u - phi[-1]), cmap=\"coolwarm\", norm=plt.matplotlib.colors.LogNorm()\n",
    ")\n",
    "plt.colorbar(label=\"Log $L_\\\\infty$\")\n",
    "plt.title(file)"
   ]
  },
  {
   "cell_type": "code",
   "execution_count": null,
   "id": "2a96087a",
   "metadata": {},
   "outputs": [],
   "source": []
  }
 ],
 "metadata": {
  "kernelspec": {
   "display_name": "Python 3 (ipykernel)",
   "language": "python",
   "name": "python3"
  },
  "language_info": {
   "codemirror_mode": {
    "name": "ipython",
    "version": 3
   },
   "file_extension": ".py",
   "mimetype": "text/x-python",
   "name": "python",
   "nbconvert_exporter": "python",
   "pygments_lexer": "ipython3",
   "version": "3.10.14"
  },
  "widgets": {
   "application/vnd.jupyter.widget-state+json": {
    "state": {},
    "version_major": 2,
    "version_minor": 0
   }
  }
 },
 "nbformat": 4,
 "nbformat_minor": 5
}
